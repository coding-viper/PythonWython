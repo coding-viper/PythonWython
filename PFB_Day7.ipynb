{
  "nbformat": 4,
  "nbformat_minor": 0,
  "metadata": {
    "colab": {
      "provenance": []
    },
    "kernelspec": {
      "name": "python3",
      "display_name": "Python 3"
    },
    "language_info": {
      "name": "python"
    }
  },
  "cells": [
    {
      "cell_type": "code",
      "source": [
        "logs = \"08080696 | server_xyz | fiserv | 2300 | Amazon | UPI\"\n",
        "# single lined string"
      ],
      "metadata": {
        "id": "a_rHzyGsSowB"
      },
      "execution_count": 3,
      "outputs": []
    },
    {
      "cell_type": "code",
      "source": [
        "print(logs)"
      ],
      "metadata": {
        "colab": {
          "base_uri": "https://localhost:8080/"
        },
        "id": "ecb5uyoCS5gP",
        "outputId": "87cab525-8cff-43c2-be3b-5b4d177d381d"
      },
      "execution_count": 4,
      "outputs": [
        {
          "output_type": "stream",
          "name": "stdout",
          "text": [
            "08080696 | server_xyz | fiserv | 2300 | Amazon | UPI\n"
          ]
        }
      ]
    },
    {
      "cell_type": "code",
      "source": [
        "logs = \"\"\"\n",
        "08080696 | server_xyz | fiserv | 2300 | Amazon | UPI\n",
        "08080656 | server_xyzwer | ensenta | 14000 | Amazon | CC\n",
        "\"\"\""
      ],
      "metadata": {
        "id": "WPlJd-7cTBMI"
      },
      "execution_count": 6,
      "outputs": []
    },
    {
      "cell_type": "code",
      "source": [
        "logs = '''\n",
        "08080696 | server_xyz | fiserv | 2300 | Amazon | UPI\n",
        "08080656 | server_xyzwer | ensenta | 14000 | Amazon | CC\n",
        "'''"
      ],
      "metadata": {
        "id": "acEv1_F0TZgI"
      },
      "execution_count": 8,
      "outputs": []
    },
    {
      "cell_type": "code",
      "source": [
        "logs = \"\n",
        "08080696 | server_xyz | fiserv | 2300 | Amazon | UPI\n",
        "08080656 | server_xyzwer | ensenta | 14000 | Amazon | CC\n",
        "\""
      ],
      "metadata": {
        "colab": {
          "base_uri": "https://localhost:8080/",
          "height": 110
        },
        "id": "p1z0L5CzTh5F",
        "outputId": "894ac056-8019-42a7-9f0a-3ac81ad3c586"
      },
      "execution_count": 10,
      "outputs": [
        {
          "output_type": "error",
          "ename": "SyntaxError",
          "evalue": "unterminated string literal (detected at line 1) (<ipython-input-10-783eb23f0787>, line 1)",
          "traceback": [
            "\u001b[0;36m  File \u001b[0;32m\"<ipython-input-10-783eb23f0787>\"\u001b[0;36m, line \u001b[0;32m1\u001b[0m\n\u001b[0;31m    logs = \"\u001b[0m\n\u001b[0m           ^\u001b[0m\n\u001b[0;31mSyntaxError\u001b[0m\u001b[0;31m:\u001b[0m unterminated string literal (detected at line 1)\n"
          ]
        }
      ]
    },
    {
      "cell_type": "code",
      "source": [
        "\n"
      ],
      "metadata": {
        "id": "6tnE7omRTyD-"
      },
      "execution_count": null,
      "outputs": []
    },
    {
      "cell_type": "code",
      "source": [
        "print(logs)"
      ],
      "metadata": {
        "colab": {
          "base_uri": "https://localhost:8080/"
        },
        "id": "To9iZlueTSwG",
        "outputId": "0a92b75f-0aab-4a62-b576-45036aaa02a2"
      },
      "execution_count": 9,
      "outputs": [
        {
          "output_type": "stream",
          "name": "stdout",
          "text": [
            "\n",
            "08080696 | server_xyz | fiserv | 2300 | Amazon | UPI\n",
            "08080656 | server_xyzwer | ensenta | 14000 | Amazon | CC\n",
            "\n"
          ]
        }
      ]
    },
    {
      "cell_type": "code",
      "execution_count": null,
      "metadata": {
        "id": "6tU-LtZJLDFR"
      },
      "outputs": [],
      "source": [
        "'''\n",
        "*\n",
        "**\n",
        "***\n",
        "****\n",
        "*****\n",
        "******\n",
        "'''"
      ]
    },
    {
      "cell_type": "code",
      "source": [
        "\n",
        "# 2 loops => c, c++ followed\n",
        "# take no of lines from user\n",
        "number = int(input(\"Enter the pattern range : \"))\n",
        "for i in range(1,number+1):\n",
        "  for j in range(1,i+1):\n",
        "    print(\"*\",end=\"\")\n",
        "  print()\n",
        "\n"
      ],
      "metadata": {
        "id": "9ZzgiWcAUCXW"
      },
      "execution_count": null,
      "outputs": []
    },
    {
      "cell_type": "code",
      "source": [
        "## 1 loop => python based (improved)\n",
        "number = int(input(\"Enter the pattern range : \"))\n",
        "for i in range(1,number + 1):\n",
        "  print(\"*\" * i)"
      ],
      "metadata": {
        "colab": {
          "base_uri": "https://localhost:8080/"
        },
        "id": "W9nM_IFVXqU2",
        "outputId": "2ee99bd0-e15f-45c6-ed81-614ee7c8c5f4"
      },
      "execution_count": 26,
      "outputs": [
        {
          "output_type": "stream",
          "name": "stdout",
          "text": [
            "Enter the pattern range : 10\n",
            "*\n",
            "**\n",
            "***\n",
            "****\n",
            "*****\n",
            "******\n",
            "*******\n",
            "********\n",
            "*********\n",
            "**********\n"
          ]
        }
      ]
    },
    {
      "cell_type": "code",
      "source": [
        "'''\n",
        "*******\n",
        "******\n",
        "*****\n",
        "****\n",
        "***\n",
        "**\n",
        "*\n",
        "'''"
      ],
      "metadata": {
        "id": "e8ky8QM_LKWm"
      },
      "execution_count": null,
      "outputs": []
    },
    {
      "cell_type": "code",
      "source": [
        "\n",
        "# 2 loops => c, c++ followed\n",
        "# take no of lines from user\n",
        "number = int(input(\"Enter the pattern range : \"))\n",
        "for i in range(number,0,-1):\n",
        "  for j in range(i,0,-1):\n",
        "    print(\"*\",end=\"\")\n",
        "  print()"
      ],
      "metadata": {
        "colab": {
          "base_uri": "https://localhost:8080/"
        },
        "id": "mvEnVlu1ZevG",
        "outputId": "119f45b4-0e76-48f9-9cc4-567fd576a9ef"
      },
      "execution_count": 29,
      "outputs": [
        {
          "output_type": "stream",
          "name": "stdout",
          "text": [
            "Enter the pattern range : 7\n",
            "*******\n",
            "******\n",
            "*****\n",
            "****\n",
            "***\n",
            "**\n",
            "*\n"
          ]
        }
      ]
    },
    {
      "cell_type": "code",
      "source": [
        "## 1 loop => python based (improved)\n",
        "number = int(input(\"Enter the pattern range : \"))\n",
        "for i in range(number,0,-1):\n",
        "  print(\"*\" * i)"
      ],
      "metadata": {
        "colab": {
          "base_uri": "https://localhost:8080/"
        },
        "id": "UfCqHWWqYf5Y",
        "outputId": "7a011568-4c99-4a50-da82-b1805b6d1607"
      },
      "execution_count": 33,
      "outputs": [
        {
          "output_type": "stream",
          "name": "stdout",
          "text": [
            "Enter the pattern range : 9\n",
            "*********\n",
            "********\n",
            "*******\n",
            "******\n",
            "*****\n",
            "****\n",
            "***\n",
            "**\n",
            "*\n"
          ]
        }
      ]
    },
    {
      "cell_type": "code",
      "source": [
        "'''\n",
        "*\n",
        "***\n",
        "*****\n",
        "*******\n",
        "*********\n",
        "'''"
      ],
      "metadata": {
        "id": "CmTgzitPdNy-"
      },
      "execution_count": null,
      "outputs": []
    },
    {
      "cell_type": "code",
      "source": [
        "# 2 loops => c, c++ followed\n",
        "# take no of lines from user\n",
        "number = int(input(\"Enter the pattern range : \"))\n",
        "for i in range(1, number + 1):\n",
        "  for j in range(1, (2 * i)):\n",
        "    print(\"*\",end=\"\")\n",
        "  print()"
      ],
      "metadata": {
        "colab": {
          "base_uri": "https://localhost:8080/"
        },
        "id": "5vmL1tCGdZ0h",
        "outputId": "45446c69-85e8-4af2-c589-882787c08efd"
      },
      "execution_count": 40,
      "outputs": [
        {
          "output_type": "stream",
          "name": "stdout",
          "text": [
            "Enter the pattern range : 7\n",
            "*\n",
            "***\n",
            "*****\n",
            "*******\n",
            "*********\n",
            "***********\n",
            "*************\n"
          ]
        }
      ]
    },
    {
      "cell_type": "code",
      "source": [
        "'''\n",
        "   *\n",
        "  ***\n",
        " *****\n",
        "*******\n",
        "'''"
      ],
      "metadata": {
        "id": "exmxR0ECLsjW"
      },
      "execution_count": null,
      "outputs": []
    },
    {
      "cell_type": "code",
      "source": [],
      "metadata": {
        "id": "tpsxZvt-c-ge"
      },
      "execution_count": null,
      "outputs": []
    },
    {
      "cell_type": "code",
      "source": [
        "'''\n",
        "*******\n",
        " *****\n",
        "  ***\n",
        "   *\n",
        "'''"
      ],
      "metadata": {
        "id": "_g17kczzMLfK"
      },
      "execution_count": null,
      "outputs": []
    },
    {
      "cell_type": "code",
      "source": [
        "'''\n",
        "      *\n",
        "     * *\n",
        "    * * *\n",
        "   * * * *\n",
        "  * * * * *\n",
        " * * * * * *\n",
        "* * * * * * *\n",
        "\n",
        "'''"
      ],
      "metadata": {
        "id": "G2VSvkNpMUIL"
      },
      "execution_count": null,
      "outputs": []
    },
    {
      "cell_type": "code",
      "source": [
        "'''\n",
        "* * * * * * *\n",
        " * * * * * *\n",
        "  * * * * *\n",
        "   * * * *\n",
        "    * * *\n",
        "     * *\n",
        "      *\n",
        "\n",
        "'''"
      ],
      "metadata": {
        "id": "hCFkYwAiNi6W"
      },
      "execution_count": null,
      "outputs": []
    },
    {
      "cell_type": "code",
      "source": [
        "'''\n",
        "\n",
        "* * * * *\n",
        "*       *\n",
        "*       *\n",
        "*       *\n",
        "* * * * *\n",
        "'''\n"
      ],
      "metadata": {
        "id": "DsnM7xQvNzZd"
      },
      "execution_count": null,
      "outputs": []
    },
    {
      "cell_type": "code",
      "source": [
        "'''\n",
        "1\n",
        "212\n",
        "32123\n",
        "4321234\n",
        "'''"
      ],
      "metadata": {
        "id": "W_IxxSdRObk3"
      },
      "execution_count": 2,
      "outputs": []
    }
  ]
}