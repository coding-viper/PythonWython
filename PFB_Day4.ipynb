{
  "nbformat": 4,
  "nbformat_minor": 0,
  "metadata": {
    "colab": {
      "provenance": []
    },
    "kernelspec": {
      "name": "python3",
      "display_name": "Python 3"
    },
    "language_info": {
      "name": "python"
    }
  },
  "cells": [
    {
      "cell_type": "code",
      "source": [
        "### if => control statements => conditional cs"
      ],
      "metadata": {
        "id": "kr8_CcnRrsru"
      },
      "execution_count": null,
      "outputs": []
    },
    {
      "cell_type": "code",
      "execution_count": null,
      "metadata": {
        "colab": {
          "base_uri": "https://localhost:8080/"
        },
        "id": "y4q3bD0CewZe",
        "outputId": "a33891f8-eec0-49b4-96e1-df13a8ce5c19"
      },
      "outputs": [
        {
          "output_type": "stream",
          "name": "stdout",
          "text": [
            "Not Zero\n"
          ]
        }
      ],
      "source": [
        "number = 123\n",
        "if number:\n",
        "  print(\"Not Zero\")"
      ]
    },
    {
      "cell_type": "code",
      "source": [
        "bool(123)"
      ],
      "metadata": {
        "colab": {
          "base_uri": "https://localhost:8080/"
        },
        "id": "idKtPSaKfvCu",
        "outputId": "d0e393d3-001f-4f83-bf73-a17910a31402"
      },
      "execution_count": null,
      "outputs": [
        {
          "output_type": "execute_result",
          "data": {
            "text/plain": [
              "True"
            ]
          },
          "metadata": {},
          "execution_count": 2
        }
      ]
    },
    {
      "cell_type": "code",
      "source": [
        "number = 0\n",
        "if number:\n",
        "  print(\"Not Zero\")"
      ],
      "metadata": {
        "id": "Oi_E0Qf6f6eT"
      },
      "execution_count": null,
      "outputs": []
    },
    {
      "cell_type": "code",
      "source": [
        "bool(0)"
      ],
      "metadata": {
        "colab": {
          "base_uri": "https://localhost:8080/"
        },
        "id": "eeV35ApJgA_G",
        "outputId": "614d607e-2794-4732-b09a-b5f471d2a5c0"
      },
      "execution_count": null,
      "outputs": [
        {
          "output_type": "execute_result",
          "data": {
            "text/plain": [
              "False"
            ]
          },
          "metadata": {},
          "execution_count": 4
        }
      ]
    },
    {
      "cell_type": "code",
      "source": [
        "bool(-1)"
      ],
      "metadata": {
        "colab": {
          "base_uri": "https://localhost:8080/"
        },
        "id": "a_peLVcIgDA6",
        "outputId": "b473d93f-b4e0-4dbe-aa46-3317c7cab212"
      },
      "execution_count": null,
      "outputs": [
        {
          "output_type": "execute_result",
          "data": {
            "text/plain": [
              "True"
            ]
          },
          "metadata": {},
          "execution_count": 5
        }
      ]
    },
    {
      "cell_type": "code",
      "source": [
        "## 4 servers\n",
        "s4 = 'C:\\balh\\blah_folder.blah.txt'\n",
        "if s4:\n",
        "  print(\"I have the response.\")\n"
      ],
      "metadata": {
        "colab": {
          "base_uri": "https://localhost:8080/"
        },
        "id": "IZMUMmsOgSZs",
        "outputId": "b6748a0c-d925-43bd-9f9a-d441c04a5ccb"
      },
      "execution_count": null,
      "outputs": [
        {
          "output_type": "stream",
          "name": "stdout",
          "text": [
            "I have the response.\n"
          ]
        }
      ]
    },
    {
      "cell_type": "code",
      "source": [
        "s4 = 'C:\\balh\\blah_folder.blah.txt'\n",
        "if s4:\n",
        "  print(\"I have the response.\")"
      ],
      "metadata": {
        "colab": {
          "base_uri": "https://localhost:8080/"
        },
        "id": "W8CcHD_agnAM",
        "outputId": "6160ee5e-d048-4df5-95e4-f2cd8961dfa6"
      },
      "execution_count": null,
      "outputs": [
        {
          "output_type": "stream",
          "name": "stdout",
          "text": [
            "I have the response.\n"
          ]
        }
      ]
    },
    {
      "cell_type": "code",
      "source": [
        "print('C:\\balh\\blah_folder\\blah.txt')"
      ],
      "metadata": {
        "colab": {
          "base_uri": "https://localhost:8080/"
        },
        "id": "kQBTbmO5h6BD",
        "outputId": "36a117ff-4a18-499f-b511-3b33e3b20f64"
      },
      "execution_count": null,
      "outputs": [
        {
          "output_type": "stream",
          "name": "stdout",
          "text": [
            "C:\balh\blah_folder\blah.txt\n"
          ]
        }
      ]
    },
    {
      "cell_type": "code",
      "source": [
        "print(r'C:\\balh\\blah_folder\\blah.txt')"
      ],
      "metadata": {
        "colab": {
          "base_uri": "https://localhost:8080/"
        },
        "id": "-bnG9ii2iPe7",
        "outputId": "b997c0c7-35de-4a48-c139-0ad9732b8462"
      },
      "execution_count": null,
      "outputs": [
        {
          "output_type": "stream",
          "name": "stdout",
          "text": [
            "C:\\balh\\blah_folder\\blah.txt\n"
          ]
        }
      ]
    },
    {
      "cell_type": "code",
      "source": [
        "s4 = r'C:\\balh\\blah_folder\\blah.txt'\n",
        "if 'blah.txt' in s4:\n",
        "  print(\"File Found\")"
      ],
      "metadata": {
        "colab": {
          "base_uri": "https://localhost:8080/"
        },
        "id": "gBXgTUMahBA_",
        "outputId": "7a613182-3e80-4859-d23c-b852e870a511"
      },
      "execution_count": null,
      "outputs": [
        {
          "output_type": "stream",
          "name": "stdout",
          "text": [
            "File Found\n"
          ]
        }
      ]
    },
    {
      "cell_type": "code",
      "source": [
        "'blahtxt' in s4"
      ],
      "metadata": {
        "colab": {
          "base_uri": "https://localhost:8080/"
        },
        "id": "fUL1FCAFhd-a",
        "outputId": "228db58a-4271-496e-896b-4beca5bf885c"
      },
      "execution_count": null,
      "outputs": [
        {
          "output_type": "execute_result",
          "data": {
            "text/plain": [
              "False"
            ]
          },
          "metadata": {},
          "execution_count": 17
        }
      ]
    },
    {
      "cell_type": "code",
      "source": [
        "## code to check if a number is even or odd"
      ],
      "metadata": {
        "id": "iZ2d-gP4if4l"
      },
      "execution_count": null,
      "outputs": []
    },
    {
      "cell_type": "code",
      "source": [
        "number = input(\"Enter your number:\")"
      ],
      "metadata": {
        "colab": {
          "base_uri": "https://localhost:8080/"
        },
        "id": "3PzSXCX8jAcp",
        "outputId": "67af1f18-9a9b-4cc3-aeae-ca50d4e0a80e"
      },
      "execution_count": null,
      "outputs": [
        {
          "name": "stdout",
          "output_type": "stream",
          "text": [
            "Enter your number:123\n"
          ]
        }
      ]
    },
    {
      "cell_type": "code",
      "source": [
        "number"
      ],
      "metadata": {
        "colab": {
          "base_uri": "https://localhost:8080/",
          "height": 36
        },
        "id": "ER79nM_hj4kO",
        "outputId": "a4a03e1f-4e6b-421a-8b4e-679361c17a5c"
      },
      "execution_count": null,
      "outputs": [
        {
          "output_type": "execute_result",
          "data": {
            "text/plain": [
              "'123'"
            ],
            "application/vnd.google.colaboratory.intrinsic+json": {
              "type": "string"
            }
          },
          "metadata": {},
          "execution_count": 20
        }
      ]
    },
    {
      "cell_type": "code",
      "source": [
        "number = int(input(\"Enter your number:\"))\n",
        "number"
      ],
      "metadata": {
        "colab": {
          "base_uri": "https://localhost:8080/"
        },
        "id": "nLTxq4DIj6pn",
        "outputId": "94b6dcb2-3b11-401e-d63a-124dba0ec54b"
      },
      "execution_count": null,
      "outputs": [
        {
          "name": "stdout",
          "output_type": "stream",
          "text": [
            "Enter your number:123\n"
          ]
        },
        {
          "output_type": "execute_result",
          "data": {
            "text/plain": [
              "123"
            ]
          },
          "metadata": {},
          "execution_count": 21
        }
      ]
    },
    {
      "cell_type": "code",
      "source": [
        "type(number)"
      ],
      "metadata": {
        "colab": {
          "base_uri": "https://localhost:8080/"
        },
        "id": "o5_loY4gkJCn",
        "outputId": "78c7e366-b17e-40af-d5b0-023370506976"
      },
      "execution_count": null,
      "outputs": [
        {
          "output_type": "execute_result",
          "data": {
            "text/plain": [
              "int"
            ]
          },
          "metadata": {},
          "execution_count": 22
        }
      ]
    },
    {
      "cell_type": "code",
      "source": [
        "number = int(input(\"Enter your number:\"))\n",
        "if number % 5 == 0:\n",
        "  print(\"A magic number\")\n",
        "if number % 3 == 0:\n",
        "  print(\"Not A magic number\")"
      ],
      "metadata": {
        "colab": {
          "base_uri": "https://localhost:8080/"
        },
        "id": "QFmPN2gakMoV",
        "outputId": "fff25b20-1401-4845-d044-2a5306c46638"
      },
      "execution_count": null,
      "outputs": [
        {
          "output_type": "stream",
          "name": "stdout",
          "text": [
            "Enter your number:30\n",
            "A magic number\n",
            "Not A magic number\n"
          ]
        }
      ]
    },
    {
      "cell_type": "code",
      "source": [
        "30"
      ],
      "metadata": {
        "id": "Y3cVIOWOkwYq"
      },
      "execution_count": null,
      "outputs": []
    },
    {
      "cell_type": "code",
      "source": [
        "number = int(input(\"Enter your number:\"))\n",
        "if number % 5 == 0:\n",
        "  print(\"A magic number\")\n",
        "elif number % 3 == 0:\n",
        "  print(\"Not A magic number\")"
      ],
      "metadata": {
        "colab": {
          "base_uri": "https://localhost:8080/"
        },
        "id": "uig-u4Ojk35Z",
        "outputId": "9dd7d03b-c92e-4f24-dcbc-65e2cc6a4d24"
      },
      "execution_count": null,
      "outputs": [
        {
          "name": "stdout",
          "output_type": "stream",
          "text": [
            "Enter your number:7\n"
          ]
        }
      ]
    },
    {
      "cell_type": "code",
      "source": [
        "number = int(input(\"Enter your number:\"))\n",
        "if number % 5 == 0:\n",
        "  print(\"A magic number\")\n",
        "elif number % 3 == 0:\n",
        "  print(\"Not A magic number\")\n",
        "else:\n",
        "  print(\"gadbad Number\")"
      ],
      "metadata": {
        "colab": {
          "base_uri": "https://localhost:8080/"
        },
        "id": "E8kjhGM0lvJE",
        "outputId": "801a7cfe-0e88-4047-88ff-806ad48f4587"
      },
      "execution_count": null,
      "outputs": [
        {
          "output_type": "stream",
          "name": "stdout",
          "text": [
            "Enter your number:56\n",
            "gadbad Number\n"
          ]
        }
      ]
    },
    {
      "cell_type": "code",
      "source": [
        "number = int(input(\"Enter your number:\"))\n",
        "if number % 2 == 0:\n",
        "  print(\"Even number\")\n",
        "else:\n",
        "  print(\"Odd number\")\n"
      ],
      "metadata": {
        "colab": {
          "base_uri": "https://localhost:8080/"
        },
        "id": "xOtwTqTLmAga",
        "outputId": "80b4153e-6b6b-4f9d-ff6c-13b5af938fae"
      },
      "execution_count": null,
      "outputs": [
        {
          "output_type": "stream",
          "name": "stdout",
          "text": [
            "Enter your number:66\n",
            "Even number\n"
          ]
        }
      ]
    },
    {
      "cell_type": "code",
      "source": [
        "## All of the combination should have same indentation.\n",
        "#1. If\n",
        "#2. If, else\n",
        "#3. If, elif, elif, elif, ..... elif\n",
        "#4. If, elif, elif, elif, ... , else"
      ],
      "metadata": {
        "id": "Nj9VHtWPmlHg"
      },
      "execution_count": null,
      "outputs": []
    },
    {
      "cell_type": "code",
      "source": [
        "## for loop"
      ],
      "metadata": {
        "id": "oiEYSfEHnVIR"
      },
      "execution_count": null,
      "outputs": []
    },
    {
      "cell_type": "code",
      "source": [
        "print(range.__doc__)"
      ],
      "metadata": {
        "colab": {
          "base_uri": "https://localhost:8080/"
        },
        "id": "NYAfvKPonh2D",
        "outputId": "977663a5-d82f-431c-f6cc-0bd7ca0cdd75"
      },
      "execution_count": null,
      "outputs": [
        {
          "output_type": "stream",
          "name": "stdout",
          "text": [
            "range(stop) -> range object\n",
            "range(start, stop[, step]) -> range object\n",
            "\n",
            "Return an object that produces a sequence of integers from start (inclusive)\n",
            "to stop (exclusive) by step.  range(i, j) produces i, i+1, i+2, ..., j-1.\n",
            "start defaults to 0, and stop is omitted!  range(4) produces 0, 1, 2, 3.\n",
            "These are exactly the valid indices for a list of 4 elements.\n",
            "When step is given, it specifies the increment (or decrement).\n"
          ]
        }
      ]
    },
    {
      "cell_type": "code",
      "source": [
        "### for => control statements => iterative cs"
      ],
      "metadata": {
        "id": "K4YTDE-tr1op"
      },
      "execution_count": null,
      "outputs": []
    },
    {
      "cell_type": "code",
      "source": [
        "for i in range(10):\n",
        "  number = int(input(\"Enter your number:\"))\n",
        "  if number % 2 == 0:\n",
        "    print(\"Even number found !!!\")\n",
        "    print(\"kjhdfgjkghjkdhjkg kjhfjkghjkdhgjkd\")\n",
        "    break\n",
        "    print(\"Tushar\")\n",
        "\n",
        "  else:\n",
        "    print(\"Passed.\")\n",
        "\n",
        "\n"
      ],
      "metadata": {
        "colab": {
          "base_uri": "https://localhost:8080/"
        },
        "id": "RLLNXqLxn6eG",
        "outputId": "0005ee1b-2bb5-4395-9ea3-0015c19df6e8"
      },
      "execution_count": null,
      "outputs": [
        {
          "output_type": "stream",
          "name": "stdout",
          "text": [
            "Enter your number:1\n",
            "Passed.\n",
            "Enter your number:3\n",
            "Passed.\n",
            "Enter your number:5\n",
            "Passed.\n",
            "Enter your number:31\n",
            "Passed.\n",
            "Enter your number:11\n",
            "Passed.\n",
            "Enter your number:111\n",
            "Passed.\n",
            "Enter your number:131\n",
            "Passed.\n",
            "Enter your number:7\n",
            "Passed.\n",
            "Enter your number:9\n",
            "Passed.\n",
            "Enter your number:23\n",
            "Passed.\n"
          ]
        }
      ]
    },
    {
      "cell_type": "code",
      "source": [
        "for i in range(10):\n",
        "  number = int(input(\"Enter your number:\"))\n",
        "  print(\"You entered\",number)\n"
      ],
      "metadata": {
        "colab": {
          "base_uri": "https://localhost:8080/"
        },
        "id": "i6tmfoq2o_vc",
        "outputId": "dfe5dbf4-15a2-4d9f-e7cf-15f1f39a158d"
      },
      "execution_count": null,
      "outputs": [
        {
          "output_type": "stream",
          "name": "stdout",
          "text": [
            "Enter your number:1\n",
            "You entered 1\n",
            "Enter your number:23\n",
            "You entered 23\n",
            "Enter your number:456\n",
            "You entered 456\n",
            "Enter your number:56\n",
            "You entered 56\n",
            "Enter your number:56\n",
            "You entered 56\n",
            "Enter your number:11\n",
            "You entered 11\n",
            "Enter your number:45\n",
            "You entered 45\n",
            "Enter your number:787\n",
            "You entered 787\n",
            "Enter your number:787\n",
            "You entered 787\n",
            "Enter your number:44\n",
            "You entered 44\n"
          ]
        }
      ]
    },
    {
      "cell_type": "code",
      "source": [
        "for i in range(100,200+1):\n",
        "  print(i)"
      ],
      "metadata": {
        "colab": {
          "base_uri": "https://localhost:8080/"
        },
        "id": "O96RXSaup2OZ",
        "outputId": "b7e6ac6e-0449-464e-e237-e0a6fb71a5ad"
      },
      "execution_count": null,
      "outputs": [
        {
          "output_type": "stream",
          "name": "stdout",
          "text": [
            "100\n",
            "101\n",
            "102\n",
            "103\n",
            "104\n",
            "105\n",
            "106\n",
            "107\n",
            "108\n",
            "109\n",
            "110\n",
            "111\n",
            "112\n",
            "113\n",
            "114\n",
            "115\n",
            "116\n",
            "117\n",
            "118\n",
            "119\n",
            "120\n",
            "121\n",
            "122\n",
            "123\n",
            "124\n",
            "125\n",
            "126\n",
            "127\n",
            "128\n",
            "129\n",
            "130\n",
            "131\n",
            "132\n",
            "133\n",
            "134\n",
            "135\n",
            "136\n",
            "137\n",
            "138\n",
            "139\n",
            "140\n",
            "141\n",
            "142\n",
            "143\n",
            "144\n",
            "145\n",
            "146\n",
            "147\n",
            "148\n",
            "149\n",
            "150\n",
            "151\n",
            "152\n",
            "153\n",
            "154\n",
            "155\n",
            "156\n",
            "157\n",
            "158\n",
            "159\n",
            "160\n",
            "161\n",
            "162\n",
            "163\n",
            "164\n",
            "165\n",
            "166\n",
            "167\n",
            "168\n",
            "169\n",
            "170\n",
            "171\n",
            "172\n",
            "173\n",
            "174\n",
            "175\n",
            "176\n",
            "177\n",
            "178\n",
            "179\n",
            "180\n",
            "181\n",
            "182\n",
            "183\n",
            "184\n",
            "185\n",
            "186\n",
            "187\n",
            "188\n",
            "189\n",
            "190\n",
            "191\n",
            "192\n",
            "193\n",
            "194\n",
            "195\n",
            "196\n",
            "197\n",
            "198\n",
            "199\n",
            "200\n"
          ]
        }
      ]
    },
    {
      "cell_type": "code",
      "source": [
        "for i in range(10,21 + 1):\n",
        "  print(i)"
      ],
      "metadata": {
        "colab": {
          "base_uri": "https://localhost:8080/"
        },
        "id": "OsrFBellqDeD",
        "outputId": "92e98001-0877-4061-9d3c-8065cfcd8071"
      },
      "execution_count": null,
      "outputs": [
        {
          "output_type": "stream",
          "name": "stdout",
          "text": [
            "10\n",
            "11\n",
            "12\n",
            "13\n",
            "14\n",
            "15\n",
            "16\n",
            "17\n",
            "18\n",
            "19\n",
            "20\n"
          ]
        }
      ]
    },
    {
      "cell_type": "code",
      "source": [
        "a =range(10,20)"
      ],
      "metadata": {
        "id": "9NJcIabgqadc"
      },
      "execution_count": null,
      "outputs": []
    },
    {
      "cell_type": "code",
      "source": [
        "type(a)"
      ],
      "metadata": {
        "colab": {
          "base_uri": "https://localhost:8080/"
        },
        "id": "z_l2t8eyqlEB",
        "outputId": "a118fc60-447a-48a0-b492-579f2cb1c16a"
      },
      "execution_count": null,
      "outputs": [
        {
          "output_type": "execute_result",
          "data": {
            "text/plain": [
              "range"
            ]
          },
          "metadata": {},
          "execution_count": 52
        }
      ]
    },
    {
      "cell_type": "code",
      "source": [
        "indexer = iter(range(1,5))"
      ],
      "metadata": {
        "id": "F4bLLVKoql4d"
      },
      "execution_count": null,
      "outputs": []
    },
    {
      "cell_type": "code",
      "source": [
        "next(indexer)"
      ],
      "metadata": {
        "colab": {
          "base_uri": "https://localhost:8080/",
          "height": 146
        },
        "id": "YfGvz8Egqzgi",
        "outputId": "ecbce9fd-d35f-4bb8-be49-da92caa8b4f4"
      },
      "execution_count": null,
      "outputs": [
        {
          "output_type": "error",
          "ename": "StopIteration",
          "evalue": "",
          "traceback": [
            "\u001b[0;31m---------------------------------------------------------------------------\u001b[0m",
            "\u001b[0;31mStopIteration\u001b[0m                             Traceback (most recent call last)",
            "\u001b[0;32m<ipython-input-58-a6217baa8ae1>\u001b[0m in \u001b[0;36m<cell line: 1>\u001b[0;34m()\u001b[0m\n\u001b[0;32m----> 1\u001b[0;31m \u001b[0mnext\u001b[0m\u001b[0;34m(\u001b[0m\u001b[0mindexer\u001b[0m\u001b[0;34m)\u001b[0m\u001b[0;34m\u001b[0m\u001b[0;34m\u001b[0m\u001b[0m\n\u001b[0m",
            "\u001b[0;31mStopIteration\u001b[0m: "
          ]
        }
      ]
    },
    {
      "cell_type": "code",
      "source": [
        "print(range.__doc__)"
      ],
      "metadata": {
        "colab": {
          "base_uri": "https://localhost:8080/"
        },
        "id": "z0cILLARq1_d",
        "outputId": "b7680721-bca6-4593-c72b-d8996ffe5cf6"
      },
      "execution_count": null,
      "outputs": [
        {
          "output_type": "stream",
          "name": "stdout",
          "text": [
            "range(stop) -> range object\n",
            "range(start, stop[, step]) -> range object\n",
            "\n",
            "Return an object that produces a sequence of integers from start (inclusive)\n",
            "to stop (exclusive) by step.  range(i, j) produces i, i+1, i+2, ..., j-1.\n",
            "start defaults to 0, and stop is omitted!  range(4) produces 0, 1, 2, 3.\n",
            "These are exactly the valid indices for a list of 4 elements.\n",
            "When step is given, it specifies the increment (or decrement).\n"
          ]
        }
      ]
    },
    {
      "cell_type": "code",
      "source": [
        "for i in range(2):\n",
        "  print(i)"
      ],
      "metadata": {
        "colab": {
          "base_uri": "https://localhost:8080/"
        },
        "id": "RhR9OvrirEFc",
        "outputId": "8edfd766-5154-43e5-dacf-ee6b5162c5cd"
      },
      "execution_count": null,
      "outputs": [
        {
          "output_type": "stream",
          "name": "stdout",
          "text": [
            "0\n",
            "1\n"
          ]
        }
      ]
    },
    {
      "cell_type": "code",
      "source": [],
      "metadata": {
        "id": "EgPIqIgerTq7"
      },
      "execution_count": null,
      "outputs": []
    }
  ]
}