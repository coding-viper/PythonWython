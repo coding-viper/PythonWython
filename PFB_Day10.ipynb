{
  "nbformat": 4,
  "nbformat_minor": 0,
  "metadata": {
    "colab": {
      "provenance": []
    },
    "kernelspec": {
      "name": "python3",
      "display_name": "Python 3"
    },
    "language_info": {
      "name": "python"
    }
  },
  "cells": [
    {
      "cell_type": "code",
      "execution_count": 1,
      "metadata": {
        "id": "GkKDuGp4pLBa"
      },
      "outputs": [],
      "source": [
        "a = [1,2,3,\"java\",4,5,6,\"python\",\"c++\"]"
      ]
    },
    {
      "cell_type": "code",
      "source": [
        "a[0] = 12"
      ],
      "metadata": {
        "id": "sCT0zGI7rREg"
      },
      "execution_count": 2,
      "outputs": []
    },
    {
      "cell_type": "code",
      "source": [
        "a"
      ],
      "metadata": {
        "colab": {
          "base_uri": "https://localhost:8080/"
        },
        "id": "iK0qvhPWrWi1",
        "outputId": "1be691a8-bf92-491b-cd02-cb9d95fa176e"
      },
      "execution_count": 4,
      "outputs": [
        {
          "output_type": "execute_result",
          "data": {
            "text/plain": [
              "[12, 2, 3, 'java', 4, 5, 6, 'python', 'c++']"
            ]
          },
          "metadata": {},
          "execution_count": 4
        }
      ]
    },
    {
      "cell_type": "code",
      "source": [
        "a"
      ],
      "metadata": {
        "colab": {
          "base_uri": "https://localhost:8080/"
        },
        "id": "JDCyf9NZrgX7",
        "outputId": "fbc7790f-f2cb-46fd-ddfa-d65850ac5195"
      },
      "execution_count": 7,
      "outputs": [
        {
          "output_type": "execute_result",
          "data": {
            "text/plain": [
              "[12, 2, 3, 'java', 4, 5, 6, 'python', 'c++']"
            ]
          },
          "metadata": {},
          "execution_count": 7
        }
      ]
    },
    {
      "cell_type": "code",
      "source": [
        "a"
      ],
      "metadata": {
        "colab": {
          "base_uri": "https://localhost:8080/"
        },
        "id": "eujWs_kHrY1n",
        "outputId": "cf76c9ce-3898-4e15-87a2-57b86b3f7686"
      },
      "execution_count": 5,
      "outputs": [
        {
          "output_type": "execute_result",
          "data": {
            "text/plain": [
              "[12, 2, 3, 'java', 4, 5, 6, 'python', 'c++']"
            ]
          },
          "metadata": {},
          "execution_count": 5
        }
      ]
    },
    {
      "cell_type": "code",
      "source": [
        "a"
      ],
      "metadata": {
        "colab": {
          "base_uri": "https://localhost:8080/"
        },
        "id": "3fG3DSp8rfBO",
        "outputId": "85c6f73c-c476-4e7c-c94b-3d749bc8689b"
      },
      "execution_count": 6,
      "outputs": [
        {
          "output_type": "execute_result",
          "data": {
            "text/plain": [
              "[12, 2, 3, 'java', 4, 5, 6, 'python', 'c++']"
            ]
          },
          "metadata": {},
          "execution_count": 6
        }
      ]
    },
    {
      "cell_type": "code",
      "source": [
        "type(a[0])"
      ],
      "metadata": {
        "colab": {
          "base_uri": "https://localhost:8080/"
        },
        "id": "PhHAsm6Xrfn0",
        "outputId": "751e85ae-e454-46d3-d29d-8b47400091b9"
      },
      "execution_count": 8,
      "outputs": [
        {
          "output_type": "execute_result",
          "data": {
            "text/plain": [
              "int"
            ]
          },
          "metadata": {},
          "execution_count": 8
        }
      ]
    },
    {
      "cell_type": "code",
      "source": [
        "type(a[-1])"
      ],
      "metadata": {
        "colab": {
          "base_uri": "https://localhost:8080/"
        },
        "id": "U8TXuYbPru4J",
        "outputId": "d6705323-d94b-467f-c1f7-5e17f3690e8d"
      },
      "execution_count": 9,
      "outputs": [
        {
          "output_type": "execute_result",
          "data": {
            "text/plain": [
              "str"
            ]
          },
          "metadata": {},
          "execution_count": 9
        }
      ]
    },
    {
      "cell_type": "code",
      "source": [
        "a[-1]"
      ],
      "metadata": {
        "colab": {
          "base_uri": "https://localhost:8080/",
          "height": 36
        },
        "id": "6pbpulzHrxMY",
        "outputId": "e38f0e3d-c164-4818-92a6-bd6a2fd0736f"
      },
      "execution_count": 10,
      "outputs": [
        {
          "output_type": "execute_result",
          "data": {
            "text/plain": [
              "'c++'"
            ],
            "application/vnd.google.colaboratory.intrinsic+json": {
              "type": "string"
            }
          },
          "metadata": {},
          "execution_count": 10
        }
      ]
    },
    {
      "cell_type": "code",
      "source": [
        "a[-2]"
      ],
      "metadata": {
        "colab": {
          "base_uri": "https://localhost:8080/",
          "height": 36
        },
        "id": "I9ngzsWgrybY",
        "outputId": "92599938-f782-4dd5-fd62-d188d031249d"
      },
      "execution_count": 11,
      "outputs": [
        {
          "output_type": "execute_result",
          "data": {
            "text/plain": [
              "'python'"
            ],
            "application/vnd.google.colaboratory.intrinsic+json": {
              "type": "string"
            }
          },
          "metadata": {},
          "execution_count": 11
        }
      ]
    },
    {
      "cell_type": "code",
      "source": [
        "a[-6]"
      ],
      "metadata": {
        "colab": {
          "base_uri": "https://localhost:8080/",
          "height": 36
        },
        "id": "yg-UxofTrzkN",
        "outputId": "cda3e3a4-ddd4-4546-e204-4670586bfcd8"
      },
      "execution_count": 12,
      "outputs": [
        {
          "output_type": "execute_result",
          "data": {
            "text/plain": [
              "'java'"
            ],
            "application/vnd.google.colaboratory.intrinsic+json": {
              "type": "string"
            }
          },
          "metadata": {},
          "execution_count": 12
        }
      ]
    },
    {
      "cell_type": "code",
      "source": [
        "# [12, 2, 3, 'java', 4, 5, 6, 'python', 'c++']\n",
        "#  0   1  2    3     4  5  6      7       8\n",
        "# -9  -8 -7   -6    -5 -4 -3     -2      -1\n",
        "\n",
        "# len => x\n",
        "# +ve => 0, x-1\n",
        "# -ve => -1, -x"
      ],
      "metadata": {
        "id": "gElBEZcTr5T2"
      },
      "execution_count": 17,
      "outputs": []
    },
    {
      "cell_type": "code",
      "source": [
        "a[-9]"
      ],
      "metadata": {
        "colab": {
          "base_uri": "https://localhost:8080/"
        },
        "id": "UWXuJFfzr1dw",
        "outputId": "e6998687-5a2c-4153-f51e-91b94183d6e9"
      },
      "execution_count": 14,
      "outputs": [
        {
          "output_type": "execute_result",
          "data": {
            "text/plain": [
              "12"
            ]
          },
          "metadata": {},
          "execution_count": 14
        }
      ]
    },
    {
      "cell_type": "code",
      "source": [
        "a[0]"
      ],
      "metadata": {
        "colab": {
          "base_uri": "https://localhost:8080/"
        },
        "id": "2WCQZQP1sRYW",
        "outputId": "79a75b7f-10d3-45bf-d533-e9880c125b02"
      },
      "execution_count": 15,
      "outputs": [
        {
          "output_type": "execute_result",
          "data": {
            "text/plain": [
              "12"
            ]
          },
          "metadata": {},
          "execution_count": 15
        }
      ]
    },
    {
      "cell_type": "code",
      "source": [
        "a[-9] == a[0]"
      ],
      "metadata": {
        "colab": {
          "base_uri": "https://localhost:8080/"
        },
        "id": "lT9jsZ-fsSaH",
        "outputId": "d4f78d39-7fb2-4f67-a087-8ceaf80af644"
      },
      "execution_count": 16,
      "outputs": [
        {
          "output_type": "execute_result",
          "data": {
            "text/plain": [
              "True"
            ]
          },
          "metadata": {},
          "execution_count": 16
        }
      ]
    },
    {
      "cell_type": "code",
      "source": [
        "## methods"
      ],
      "metadata": {
        "id": "-pNj34hrsUnl"
      },
      "execution_count": 18,
      "outputs": []
    },
    {
      "cell_type": "code",
      "source": [
        "a"
      ],
      "metadata": {
        "colab": {
          "base_uri": "https://localhost:8080/"
        },
        "id": "A64hV4v_sjYA",
        "outputId": "b5edc77a-b74f-4b88-b0fe-255ccae06fdf"
      },
      "execution_count": 20,
      "outputs": [
        {
          "output_type": "execute_result",
          "data": {
            "text/plain": [
              "[12, 2, 3, 'java', 4, 5, 6, 'python', 'c++']"
            ]
          },
          "metadata": {},
          "execution_count": 20
        }
      ]
    },
    {
      "cell_type": "code",
      "source": [
        "a.append('C#')"
      ],
      "metadata": {
        "id": "3jTV9Njrsn9W"
      },
      "execution_count": 21,
      "outputs": []
    },
    {
      "cell_type": "code",
      "source": [
        "a"
      ],
      "metadata": {
        "colab": {
          "base_uri": "https://localhost:8080/"
        },
        "id": "6jTcQN_Ps5CW",
        "outputId": "eec8723a-e9c4-4009-f3e3-71ca7d26a28e"
      },
      "execution_count": 22,
      "outputs": [
        {
          "output_type": "execute_result",
          "data": {
            "text/plain": [
              "[12, 2, 3, 'java', 4, 5, 6, 'python', 'c++', 'C#']"
            ]
          },
          "metadata": {},
          "execution_count": 22
        }
      ]
    },
    {
      "cell_type": "code",
      "source": [
        "a.append('javascript')"
      ],
      "metadata": {
        "id": "FNYPsnTds5m6"
      },
      "execution_count": 23,
      "outputs": []
    },
    {
      "cell_type": "code",
      "source": [
        "a"
      ],
      "metadata": {
        "colab": {
          "base_uri": "https://localhost:8080/"
        },
        "id": "_JTV_gL1s8iz",
        "outputId": "7ea8ccca-be1e-4375-8149-9036caeb972c"
      },
      "execution_count": 24,
      "outputs": [
        {
          "output_type": "execute_result",
          "data": {
            "text/plain": [
              "[12, 2, 3, 'java', 4, 5, 6, 'python', 'c++', 'C#', 'javascript']"
            ]
          },
          "metadata": {},
          "execution_count": 24
        }
      ]
    },
    {
      "cell_type": "code",
      "source": [
        "a"
      ],
      "metadata": {
        "colab": {
          "base_uri": "https://localhost:8080/"
        },
        "id": "b2Qg1pcPs9Ey",
        "outputId": "b63f7590-c533-41ec-97d6-7a9482d2a859"
      },
      "execution_count": 25,
      "outputs": [
        {
          "output_type": "execute_result",
          "data": {
            "text/plain": [
              "[12, 2, 3, 'java', 4, 5, 6, 'python', 'c++', 'C#', 'javascript']"
            ]
          },
          "metadata": {},
          "execution_count": 25
        }
      ]
    },
    {
      "cell_type": "code",
      "source": [
        "a"
      ],
      "metadata": {
        "colab": {
          "base_uri": "https://localhost:8080/"
        },
        "id": "bZyClDCks_Zg",
        "outputId": "78590de3-ec80-4244-a739-6280285dbc1e"
      },
      "execution_count": 26,
      "outputs": [
        {
          "output_type": "execute_result",
          "data": {
            "text/plain": [
              "[12, 2, 3, 'java', 4, 5, 6, 'python', 'c++', 'C#', 'javascript']"
            ]
          },
          "metadata": {},
          "execution_count": 26
        }
      ]
    },
    {
      "cell_type": "code",
      "source": [
        "a[-1]"
      ],
      "metadata": {
        "colab": {
          "base_uri": "https://localhost:8080/",
          "height": 36
        },
        "id": "XbAsJRkUtDRD",
        "outputId": "b3be858a-80d8-41b3-8ee0-550a49bc2f14"
      },
      "execution_count": 27,
      "outputs": [
        {
          "output_type": "execute_result",
          "data": {
            "text/plain": [
              "'javascript'"
            ],
            "application/vnd.google.colaboratory.intrinsic+json": {
              "type": "string"
            }
          },
          "metadata": {},
          "execution_count": 27
        }
      ]
    },
    {
      "cell_type": "code",
      "source": [
        "a[len(a)-1]"
      ],
      "metadata": {
        "colab": {
          "base_uri": "https://localhost:8080/",
          "height": 36
        },
        "id": "iXLBOdcktFtJ",
        "outputId": "ba03e292-3d86-4596-d387-d7558c7ed589"
      },
      "execution_count": 28,
      "outputs": [
        {
          "output_type": "execute_result",
          "data": {
            "text/plain": [
              "'javascript'"
            ],
            "application/vnd.google.colaboratory.intrinsic+json": {
              "type": "string"
            }
          },
          "metadata": {},
          "execution_count": 28
        }
      ]
    },
    {
      "cell_type": "code",
      "source": [
        "a.append(['Cython','Jython','IPython'])"
      ],
      "metadata": {
        "id": "INVlD0WXtHYZ"
      },
      "execution_count": 29,
      "outputs": []
    },
    {
      "cell_type": "code",
      "source": [
        "# [12, 2, 3, 'java', 4, 5, 6, 'python', 'c++', 'C#', 'javascript','Cython',\"Jython\",\"IPython\"]"
      ],
      "metadata": {
        "id": "qw7pJLsktSCc"
      },
      "execution_count": 30,
      "outputs": []
    },
    {
      "cell_type": "code",
      "source": [
        "a"
      ],
      "metadata": {
        "colab": {
          "base_uri": "https://localhost:8080/"
        },
        "id": "Mq3Oan4etPV6",
        "outputId": "8c22dc2f-2d8c-48f7-f6ad-a617c0e567c8"
      },
      "execution_count": 31,
      "outputs": [
        {
          "output_type": "execute_result",
          "data": {
            "text/plain": [
              "[12,\n",
              " 2,\n",
              " 3,\n",
              " 'java',\n",
              " 4,\n",
              " 5,\n",
              " 6,\n",
              " 'python',\n",
              " 'c++',\n",
              " 'C#',\n",
              " 'javascript',\n",
              " ['Cython', 'Jython', 'IPython']]"
            ]
          },
          "metadata": {},
          "execution_count": 31
        }
      ]
    },
    {
      "cell_type": "code",
      "source": [
        "type(a[-1])"
      ],
      "metadata": {
        "colab": {
          "base_uri": "https://localhost:8080/"
        },
        "id": "wJxsN4IytcfO",
        "outputId": "3224761c-8792-4742-acbf-45d51f2f912f"
      },
      "execution_count": 32,
      "outputs": [
        {
          "output_type": "execute_result",
          "data": {
            "text/plain": [
              "list"
            ]
          },
          "metadata": {},
          "execution_count": 32
        }
      ]
    },
    {
      "cell_type": "code",
      "source": [
        "for item in ['Cython', 'Jython', 'IPython']:\n",
        "  a.append(item)"
      ],
      "metadata": {
        "id": "dfHQRi1NthM8"
      },
      "execution_count": 34,
      "outputs": []
    },
    {
      "cell_type": "code",
      "source": [
        "a"
      ],
      "metadata": {
        "colab": {
          "base_uri": "https://localhost:8080/"
        },
        "id": "n6K6w-apt6gk",
        "outputId": "046e08e3-4d9c-45ce-e265-79b33f367cfb"
      },
      "execution_count": 35,
      "outputs": [
        {
          "output_type": "execute_result",
          "data": {
            "text/plain": [
              "[12,\n",
              " 2,\n",
              " 3,\n",
              " 'java',\n",
              " 4,\n",
              " 5,\n",
              " 6,\n",
              " 'python',\n",
              " 'c++',\n",
              " 'C#',\n",
              " 'javascript',\n",
              " ['Cython', 'Jython', 'IPython'],\n",
              " 'Cython',\n",
              " 'Jython',\n",
              " 'IPython']"
            ]
          },
          "metadata": {},
          "execution_count": 35
        }
      ]
    },
    {
      "cell_type": "code",
      "source": [
        "type(a[-1])"
      ],
      "metadata": {
        "colab": {
          "base_uri": "https://localhost:8080/"
        },
        "id": "W4kWh4g9t-78",
        "outputId": "fe0963d0-cba3-43cc-b8f7-e308e123d32c"
      },
      "execution_count": 36,
      "outputs": [
        {
          "output_type": "execute_result",
          "data": {
            "text/plain": [
              "str"
            ]
          },
          "metadata": {},
          "execution_count": 36
        }
      ]
    },
    {
      "cell_type": "code",
      "source": [
        "a.extend(['BMW','Toyota','Nissan'])"
      ],
      "metadata": {
        "id": "P_kHs4SyuFeN"
      },
      "execution_count": 37,
      "outputs": []
    },
    {
      "cell_type": "code",
      "source": [
        "a"
      ],
      "metadata": {
        "colab": {
          "base_uri": "https://localhost:8080/"
        },
        "id": "ZftkBBq0uQE6",
        "outputId": "efb5a16e-2cf1-4de5-953a-cf1bf1789ef3"
      },
      "execution_count": 38,
      "outputs": [
        {
          "output_type": "execute_result",
          "data": {
            "text/plain": [
              "[12,\n",
              " 2,\n",
              " 3,\n",
              " 'java',\n",
              " 4,\n",
              " 5,\n",
              " 6,\n",
              " 'python',\n",
              " 'c++',\n",
              " 'C#',\n",
              " 'javascript',\n",
              " ['Cython', 'Jython', 'IPython'],\n",
              " 'Cython',\n",
              " 'Jython',\n",
              " 'IPython',\n",
              " 'BMW',\n",
              " 'Toyota',\n",
              " 'Nissan']"
            ]
          },
          "metadata": {},
          "execution_count": 38
        }
      ]
    },
    {
      "cell_type": "code",
      "source": [
        "a.extend('9876')"
      ],
      "metadata": {
        "id": "cWCRS3BHuQlj"
      },
      "execution_count": 39,
      "outputs": []
    },
    {
      "cell_type": "code",
      "source": [
        "a"
      ],
      "metadata": {
        "colab": {
          "base_uri": "https://localhost:8080/"
        },
        "id": "CfmhESUmuZTS",
        "outputId": "90bf757c-19c4-43c0-93d6-807aa1d8f4a1"
      },
      "execution_count": 40,
      "outputs": [
        {
          "output_type": "execute_result",
          "data": {
            "text/plain": [
              "[12,\n",
              " 2,\n",
              " 3,\n",
              " 'java',\n",
              " 4,\n",
              " 5,\n",
              " 6,\n",
              " 'python',\n",
              " 'c++',\n",
              " 'C#',\n",
              " 'javascript',\n",
              " ['Cython', 'Jython', 'IPython'],\n",
              " 'Cython',\n",
              " 'Jython',\n",
              " 'IPython',\n",
              " 'BMW',\n",
              " 'Toyota',\n",
              " 'Nissan',\n",
              " '9',\n",
              " '8',\n",
              " '7',\n",
              " '6']"
            ]
          },
          "metadata": {},
          "execution_count": 40
        }
      ]
    },
    {
      "cell_type": "code",
      "source": [
        "# read no from user [1,n]"
      ],
      "metadata": {
        "id": "KIaBhnxwuZ6F"
      },
      "execution_count": 41,
      "outputs": []
    },
    {
      "cell_type": "code",
      "source": [
        "a = list ()\n",
        "b = []\n",
        "number = int(input(\"Enter the number range :\"))\n",
        "for num in range(1,number + 1):\n",
        "  a.append(num)\n",
        "  b.append(num)"
      ],
      "metadata": {
        "colab": {
          "base_uri": "https://localhost:8080/"
        },
        "id": "W_4sQODBuvPb",
        "outputId": "a0ed7db4-419a-40e9-ca39-070fb6645054"
      },
      "execution_count": 42,
      "outputs": [
        {
          "name": "stdout",
          "output_type": "stream",
          "text": [
            "Enter the number range :15\n"
          ]
        }
      ]
    },
    {
      "cell_type": "code",
      "source": [
        "a,b"
      ],
      "metadata": {
        "colab": {
          "base_uri": "https://localhost:8080/"
        },
        "id": "kUicc6DAvep_",
        "outputId": "0b3bc712-7100-46b2-d991-ef12583e07ed"
      },
      "execution_count": 43,
      "outputs": [
        {
          "output_type": "execute_result",
          "data": {
            "text/plain": [
              "([1, 2, 3, 4, 5, 6, 7, 8, 9, 10, 11, 12, 13, 14, 15],\n",
              " [1, 2, 3, 4, 5, 6, 7, 8, 9, 10, 11, 12, 13, 14, 15])"
            ]
          },
          "metadata": {},
          "execution_count": 43
        }
      ]
    },
    {
      "cell_type": "code",
      "source": [
        "id(a),id(b)"
      ],
      "metadata": {
        "colab": {
          "base_uri": "https://localhost:8080/"
        },
        "id": "Chg0tLYkvgw2",
        "outputId": "9b347413-ac55-405d-b9c0-10e5a23201c6"
      },
      "execution_count": 44,
      "outputs": [
        {
          "output_type": "execute_result",
          "data": {
            "text/plain": [
              "(135953483768896, 135953244702656)"
            ]
          },
          "metadata": {},
          "execution_count": 44
        }
      ]
    },
    {
      "cell_type": "code",
      "source": [
        "%%timeit\n",
        "a = []\n",
        "for i in range(1,100000):\n",
        "  a.append(i)"
      ],
      "metadata": {
        "colab": {
          "base_uri": "https://localhost:8080/"
        },
        "id": "LzgIJNLGvmTW",
        "outputId": "7aa752c3-7002-45f2-d488-fbc3d8922233"
      },
      "execution_count": 45,
      "outputs": [
        {
          "output_type": "stream",
          "name": "stdout",
          "text": [
            "6.98 ms ± 70.4 µs per loop (mean ± std. dev. of 7 runs, 100 loops each)\n"
          ]
        }
      ]
    },
    {
      "cell_type": "code",
      "source": [
        "%%timeit\n",
        "a = []\n",
        "a.extend(range(1,100000))"
      ],
      "metadata": {
        "colab": {
          "base_uri": "https://localhost:8080/"
        },
        "id": "AFRi_tjDvyb3",
        "outputId": "44fde811-c5f7-4a80-aa19-a15a00ca44e6"
      },
      "execution_count": 47,
      "outputs": [
        {
          "output_type": "stream",
          "name": "stdout",
          "text": [
            "1.88 ms ± 408 µs per loop (mean ± std. dev. of 7 runs, 1000 loops each)\n"
          ]
        }
      ]
    },
    {
      "cell_type": "code",
      "source": [],
      "metadata": {
        "id": "zMeZXBe5wyGt"
      },
      "execution_count": null,
      "outputs": []
    },
    {
      "cell_type": "code",
      "source": [
        "##list comprehensions"
      ],
      "metadata": {
        "id": "bIYuhLlcv8oM"
      },
      "execution_count": 48,
      "outputs": []
    },
    {
      "cell_type": "code",
      "source": [],
      "metadata": {
        "id": "Sa0Brs20wxxV"
      },
      "execution_count": null,
      "outputs": []
    },
    {
      "cell_type": "code",
      "source": [
        "# [ i  for i in range(1,100000)]"
      ],
      "metadata": {
        "id": "ssfizkcAwUSv"
      },
      "execution_count": null,
      "outputs": []
    },
    {
      "cell_type": "code",
      "source": [
        "a = [ i  for i in range(1,100000)]"
      ],
      "metadata": {
        "id": "8ZuSiHHNwquE"
      },
      "execution_count": 49,
      "outputs": []
    },
    {
      "cell_type": "code",
      "source": [
        "len(a)"
      ],
      "metadata": {
        "colab": {
          "base_uri": "https://localhost:8080/"
        },
        "id": "wnYHvMhpwruV",
        "outputId": "4f292daf-66fe-4b9e-c3d1-d38583b341eb"
      },
      "execution_count": 50,
      "outputs": [
        {
          "output_type": "execute_result",
          "data": {
            "text/plain": [
              "99999"
            ]
          },
          "metadata": {},
          "execution_count": 50
        }
      ]
    },
    {
      "cell_type": "code",
      "source": [
        "%%timeit\n",
        "a = []\n",
        "for i in range(1,100000):\n",
        "  a.append(i)"
      ],
      "metadata": {
        "colab": {
          "base_uri": "https://localhost:8080/"
        },
        "id": "dxDar-u6wtyn",
        "outputId": "c73a172e-3f7f-4cc6-eaf2-f03b659685fb"
      },
      "execution_count": 51,
      "outputs": [
        {
          "output_type": "stream",
          "name": "stdout",
          "text": [
            "6.9 ms ± 68.8 µs per loop (mean ± std. dev. of 7 runs, 100 loops each)\n"
          ]
        }
      ]
    },
    {
      "cell_type": "code",
      "source": [
        "%%timeit\n",
        "a = []\n",
        "a.extend(range(1,100000))"
      ],
      "metadata": {
        "colab": {
          "base_uri": "https://localhost:8080/"
        },
        "id": "gi_2ZMQ4wzjW",
        "outputId": "1dec5e03-b32a-45d4-bd45-24798f3bf508"
      },
      "execution_count": 52,
      "outputs": [
        {
          "output_type": "stream",
          "name": "stdout",
          "text": [
            "1.94 ms ± 371 µs per loop (mean ± std. dev. of 7 runs, 1000 loops each)\n"
          ]
        }
      ]
    },
    {
      "cell_type": "code",
      "source": [
        "%%timeit\n",
        "a = [ i  for i in range(1,100000)]"
      ],
      "metadata": {
        "colab": {
          "base_uri": "https://localhost:8080/"
        },
        "id": "mTvROM2QwzWZ",
        "outputId": "9c84789e-2332-4427-eb46-dbe9962c35ac"
      },
      "execution_count": 53,
      "outputs": [
        {
          "output_type": "stream",
          "name": "stdout",
          "text": [
            "5.34 ms ± 1.58 ms per loop (mean ± std. dev. of 7 runs, 100 loops each)\n"
          ]
        }
      ]
    },
    {
      "cell_type": "code",
      "source": [
        "\n",
        "%%timeit\n",
        "# 101\n",
        "# 001\n",
        "##even nos\n",
        "a = []\n",
        "for number in range(1,100000+1):\n",
        "   if number & 1 == 0:\n",
        "    a.append(number)"
      ],
      "metadata": {
        "colab": {
          "base_uri": "https://localhost:8080/"
        },
        "id": "USLMoYC2xGbM",
        "outputId": "931a19ff-4666-4825-e46d-1782c55a948a"
      },
      "execution_count": 57,
      "outputs": [
        {
          "output_type": "stream",
          "name": "stdout",
          "text": [
            "11.2 ms ± 88.3 µs per loop (mean ± std. dev. of 7 runs, 100 loops each)\n"
          ]
        }
      ]
    },
    {
      "cell_type": "code",
      "source": [
        "%%timeit\n",
        "a = [ number  for number in range(1,100000) if number & 1 == 0 ]"
      ],
      "metadata": {
        "colab": {
          "base_uri": "https://localhost:8080/"
        },
        "id": "sK_8bgtZxouJ",
        "outputId": "0d469767-e427-4d85-aa4e-2ccc6f395a82"
      },
      "execution_count": 60,
      "outputs": [
        {
          "output_type": "stream",
          "name": "stdout",
          "text": [
            "9.85 ms ± 759 µs per loop (mean ± std. dev. of 7 runs, 100 loops each)\n"
          ]
        }
      ]
    },
    {
      "cell_type": "code",
      "source": [
        "b = a"
      ],
      "metadata": {
        "id": "VhLjQ4fvyVq-"
      },
      "execution_count": 62,
      "outputs": []
    },
    {
      "cell_type": "code",
      "source": [
        "id(b),id(a)"
      ],
      "metadata": {
        "colab": {
          "base_uri": "https://localhost:8080/"
        },
        "id": "2cIBsgOrzb-9",
        "outputId": "60d2bb63-cc71-4c76-de16-3973dc5086a1"
      },
      "execution_count": 63,
      "outputs": [
        {
          "output_type": "execute_result",
          "data": {
            "text/plain": [
              "(135953243337088, 135953243337088)"
            ]
          },
          "metadata": {},
          "execution_count": 63
        }
      ]
    },
    {
      "cell_type": "code",
      "source": [
        "b.append('Water')"
      ],
      "metadata": {
        "id": "ZVRMlViTzj_C"
      },
      "execution_count": 64,
      "outputs": []
    },
    {
      "cell_type": "code",
      "source": [
        "b[-1]"
      ],
      "metadata": {
        "colab": {
          "base_uri": "https://localhost:8080/",
          "height": 36
        },
        "id": "8INTtToUzm2K",
        "outputId": "76b23168-b12e-4b50-cb7d-adf1f32ca763"
      },
      "execution_count": 65,
      "outputs": [
        {
          "output_type": "execute_result",
          "data": {
            "text/plain": [
              "'Water'"
            ],
            "application/vnd.google.colaboratory.intrinsic+json": {
              "type": "string"
            }
          },
          "metadata": {},
          "execution_count": 65
        }
      ]
    },
    {
      "cell_type": "code",
      "source": [
        "id(b),id(a)"
      ],
      "metadata": {
        "colab": {
          "base_uri": "https://localhost:8080/"
        },
        "id": "PzLRl74JzoF6",
        "outputId": "f77e0b5a-3396-4085-ee3c-d5cabea979ea"
      },
      "execution_count": 66,
      "outputs": [
        {
          "output_type": "execute_result",
          "data": {
            "text/plain": [
              "(135953243337088, 135953243337088)"
            ]
          },
          "metadata": {},
          "execution_count": 66
        }
      ]
    },
    {
      "cell_type": "code",
      "source": [
        "a[-1]"
      ],
      "metadata": {
        "colab": {
          "base_uri": "https://localhost:8080/",
          "height": 36
        },
        "id": "HXrAdduPzw1G",
        "outputId": "5fa11046-ef93-45b6-b208-a11ab7522ddc"
      },
      "execution_count": 67,
      "outputs": [
        {
          "output_type": "execute_result",
          "data": {
            "text/plain": [
              "'Water'"
            ],
            "application/vnd.google.colaboratory.intrinsic+json": {
              "type": "string"
            }
          },
          "metadata": {},
          "execution_count": 67
        }
      ]
    },
    {
      "cell_type": "code",
      "source": [
        "a = 12\n"
      ],
      "metadata": {
        "id": "UqY3DtWhz0tA"
      },
      "execution_count": 68,
      "outputs": []
    },
    {
      "cell_type": "code",
      "source": [
        "b = a"
      ],
      "metadata": {
        "id": "t337qD8iz3Sp"
      },
      "execution_count": 69,
      "outputs": []
    },
    {
      "cell_type": "code",
      "source": [
        "b = b + 1"
      ],
      "metadata": {
        "id": "Y0hVioPwz39v"
      },
      "execution_count": 70,
      "outputs": []
    },
    {
      "cell_type": "code",
      "source": [
        "b"
      ],
      "metadata": {
        "colab": {
          "base_uri": "https://localhost:8080/"
        },
        "id": "mfWSUx8Zz4-1",
        "outputId": "54247b92-38e2-4a70-8246-1ca49cc0e770"
      },
      "execution_count": 71,
      "outputs": [
        {
          "output_type": "execute_result",
          "data": {
            "text/plain": [
              "13"
            ]
          },
          "metadata": {},
          "execution_count": 71
        }
      ]
    },
    {
      "cell_type": "code",
      "source": [
        "a"
      ],
      "metadata": {
        "colab": {
          "base_uri": "https://localhost:8080/"
        },
        "id": "e3QSrUA8z5av",
        "outputId": "99a5e722-81cb-4de7-d7bc-a1a04e49417e"
      },
      "execution_count": 72,
      "outputs": [
        {
          "output_type": "execute_result",
          "data": {
            "text/plain": [
              "12"
            ]
          },
          "metadata": {},
          "execution_count": 72
        }
      ]
    },
    {
      "cell_type": "code",
      "source": [
        "id(a),id(b)"
      ],
      "metadata": {
        "colab": {
          "base_uri": "https://localhost:8080/"
        },
        "id": "SMvjUMEKz6JQ",
        "outputId": "2c8c77bf-0a24-483a-e158-7a148b0fb8f9"
      },
      "execution_count": 73,
      "outputs": [
        {
          "output_type": "execute_result",
          "data": {
            "text/plain": [
              "(135954524291664, 135954524291696)"
            ]
          },
          "metadata": {},
          "execution_count": 73
        }
      ]
    },
    {
      "cell_type": "code",
      "source": [
        "a = [1,2,3,\"java\",4,5,6,\"python\",\"c++\"]"
      ],
      "metadata": {
        "id": "Z63-lfR4z7tm"
      },
      "execution_count": 74,
      "outputs": []
    },
    {
      "cell_type": "code",
      "source": [
        "b = a"
      ],
      "metadata": {
        "id": "dtidYMl21Ben"
      },
      "execution_count": 75,
      "outputs": []
    },
    {
      "cell_type": "code",
      "source": [
        "b.append('jython'),a.append('Cython')"
      ],
      "metadata": {
        "colab": {
          "base_uri": "https://localhost:8080/"
        },
        "id": "7laKXNLM1FcO",
        "outputId": "72f2c539-8d61-4540-eaf5-f081a3a79aaf"
      },
      "execution_count": 76,
      "outputs": [
        {
          "output_type": "execute_result",
          "data": {
            "text/plain": [
              "(None, None)"
            ]
          },
          "metadata": {},
          "execution_count": 76
        }
      ]
    },
    {
      "cell_type": "code",
      "source": [
        "a"
      ],
      "metadata": {
        "colab": {
          "base_uri": "https://localhost:8080/"
        },
        "id": "YC9KlQCm1YF5",
        "outputId": "261ec0e6-63c1-4d10-e25e-a7cffe908180"
      },
      "execution_count": 77,
      "outputs": [
        {
          "output_type": "execute_result",
          "data": {
            "text/plain": [
              "[1, 2, 3, 'java', 4, 5, 6, 'python', 'c++', 'jython', 'Cython']"
            ]
          },
          "metadata": {},
          "execution_count": 77
        }
      ]
    },
    {
      "cell_type": "code",
      "source": [
        "b"
      ],
      "metadata": {
        "colab": {
          "base_uri": "https://localhost:8080/"
        },
        "id": "stpjv0Hs1ZmK",
        "outputId": "29e58884-619d-46b5-bf9f-62b9ac727ad0"
      },
      "execution_count": 78,
      "outputs": [
        {
          "output_type": "execute_result",
          "data": {
            "text/plain": [
              "[1, 2, 3, 'java', 4, 5, 6, 'python', 'c++', 'jython', 'Cython']"
            ]
          },
          "metadata": {},
          "execution_count": 78
        }
      ]
    },
    {
      "cell_type": "code",
      "source": [
        "id(b),id(a)"
      ],
      "metadata": {
        "colab": {
          "base_uri": "https://localhost:8080/"
        },
        "id": "xMrnakHJ1a5j",
        "outputId": "45d2c901-e202-49b1-d6e6-3a4b7dc2fda3"
      },
      "execution_count": 79,
      "outputs": [
        {
          "output_type": "execute_result",
          "data": {
            "text/plain": [
              "(135953483623616, 135953483623616)"
            ]
          },
          "metadata": {},
          "execution_count": 79
        }
      ]
    },
    {
      "cell_type": "code",
      "source": [
        "a"
      ],
      "metadata": {
        "colab": {
          "base_uri": "https://localhost:8080/"
        },
        "id": "wnq6HJgW1fIS",
        "outputId": "a360631e-1b7d-41d1-d158-9b90c9af59b0"
      },
      "execution_count": 80,
      "outputs": [
        {
          "output_type": "execute_result",
          "data": {
            "text/plain": [
              "[1, 2, 3, 'java', 4, 5, 6, 'python', 'c++', 'jython', 'Cython']"
            ]
          },
          "metadata": {},
          "execution_count": 80
        }
      ]
    },
    {
      "cell_type": "code",
      "source": [
        "b = a.copy()"
      ],
      "metadata": {
        "id": "7qbHyKEt1kdX"
      },
      "execution_count": 81,
      "outputs": []
    },
    {
      "cell_type": "code",
      "source": [
        "id(b),id(a)"
      ],
      "metadata": {
        "colab": {
          "base_uri": "https://localhost:8080/"
        },
        "id": "wNtcnMLj1nL7",
        "outputId": "d9c9bbcc-f303-4323-af2c-87d2da022892"
      },
      "execution_count": 82,
      "outputs": [
        {
          "output_type": "execute_result",
          "data": {
            "text/plain": [
              "(135953244421760, 135953483623616)"
            ]
          },
          "metadata": {},
          "execution_count": 82
        }
      ]
    },
    {
      "cell_type": "code",
      "source": [
        "b.append(\"Waterrrr\")"
      ],
      "metadata": {
        "id": "K7cyn0Nq1pNp"
      },
      "execution_count": 83,
      "outputs": []
    },
    {
      "cell_type": "code",
      "source": [
        "b"
      ],
      "metadata": {
        "colab": {
          "base_uri": "https://localhost:8080/"
        },
        "id": "C-UzMcfa1sMJ",
        "outputId": "af1a86b6-832d-4e4d-94ad-e13c660778de"
      },
      "execution_count": 84,
      "outputs": [
        {
          "output_type": "execute_result",
          "data": {
            "text/plain": [
              "[1, 2, 3, 'java', 4, 5, 6, 'python', 'c++', 'jython', 'Cython', 'Waterrrr']"
            ]
          },
          "metadata": {},
          "execution_count": 84
        }
      ]
    },
    {
      "cell_type": "code",
      "source": [
        "a"
      ],
      "metadata": {
        "colab": {
          "base_uri": "https://localhost:8080/"
        },
        "id": "YemqbMv71s49",
        "outputId": "f5b478b9-666a-44cb-9dc8-fd0fadb0444c"
      },
      "execution_count": 85,
      "outputs": [
        {
          "output_type": "execute_result",
          "data": {
            "text/plain": [
              "[1, 2, 3, 'java', 4, 5, 6, 'python', 'c++', 'jython', 'Cython']"
            ]
          },
          "metadata": {},
          "execution_count": 85
        }
      ]
    },
    {
      "cell_type": "code",
      "source": [
        "a.append(\"tacos\")"
      ],
      "metadata": {
        "id": "gyDHkxZq1tz4"
      },
      "execution_count": 86,
      "outputs": []
    },
    {
      "cell_type": "code",
      "source": [
        "a"
      ],
      "metadata": {
        "colab": {
          "base_uri": "https://localhost:8080/"
        },
        "id": "3RfBK4E316Yb",
        "outputId": "a48b9950-ee5e-4ef3-fc65-aac4c5dbaa10"
      },
      "execution_count": 87,
      "outputs": [
        {
          "output_type": "execute_result",
          "data": {
            "text/plain": [
              "[1, 2, 3, 'java', 4, 5, 6, 'python', 'c++', 'jython', 'Cython', 'tacos']"
            ]
          },
          "metadata": {},
          "execution_count": 87
        }
      ]
    },
    {
      "cell_type": "code",
      "source": [
        "b"
      ],
      "metadata": {
        "colab": {
          "base_uri": "https://localhost:8080/"
        },
        "id": "FYf5aWPw16_7",
        "outputId": "f6b3cdbd-6875-45a0-8086-bbef5eb2db3e"
      },
      "execution_count": 88,
      "outputs": [
        {
          "output_type": "execute_result",
          "data": {
            "text/plain": [
              "[1, 2, 3, 'java', 4, 5, 6, 'python', 'c++', 'jython', 'Cython', 'Waterrrr']"
            ]
          },
          "metadata": {},
          "execution_count": 88
        }
      ]
    },
    {
      "cell_type": "code",
      "source": [
        "b.sort()"
      ],
      "metadata": {
        "colab": {
          "base_uri": "https://localhost:8080/",
          "height": 146
        },
        "id": "BlpKVBfm2CQM",
        "outputId": "d50f296a-13ff-4d19-cc0d-f9de3dd03107"
      },
      "execution_count": 89,
      "outputs": [
        {
          "output_type": "error",
          "ename": "TypeError",
          "evalue": "'<' not supported between instances of 'str' and 'int'",
          "traceback": [
            "\u001b[0;31m---------------------------------------------------------------------------\u001b[0m",
            "\u001b[0;31mTypeError\u001b[0m                                 Traceback (most recent call last)",
            "\u001b[0;32m<ipython-input-89-b8c00efa69e8>\u001b[0m in \u001b[0;36m<cell line: 1>\u001b[0;34m()\u001b[0m\n\u001b[0;32m----> 1\u001b[0;31m \u001b[0mb\u001b[0m\u001b[0;34m.\u001b[0m\u001b[0msort\u001b[0m\u001b[0;34m(\u001b[0m\u001b[0;34m)\u001b[0m\u001b[0;34m\u001b[0m\u001b[0;34m\u001b[0m\u001b[0m\n\u001b[0m",
            "\u001b[0;31mTypeError\u001b[0m: '<' not supported between instances of 'str' and 'int'"
          ]
        }
      ]
    },
    {
      "cell_type": "code",
      "source": [
        "a = [1,7,4,33,8,78,90,34,88]\n",
        "id(a)"
      ],
      "metadata": {
        "colab": {
          "base_uri": "https://localhost:8080/"
        },
        "id": "TazsKSwa2D6q",
        "outputId": "6506ee43-c9a5-45c8-a50d-2bd0e2c3fbab"
      },
      "execution_count": 93,
      "outputs": [
        {
          "output_type": "execute_result",
          "data": {
            "text/plain": [
              "135953242572096"
            ]
          },
          "metadata": {},
          "execution_count": 93
        }
      ]
    },
    {
      "cell_type": "code",
      "source": [
        "a.sort()"
      ],
      "metadata": {
        "id": "qJ-6ajx92LhS"
      },
      "execution_count": 94,
      "outputs": []
    },
    {
      "cell_type": "code",
      "source": [
        "a, id(a)\n"
      ],
      "metadata": {
        "colab": {
          "base_uri": "https://localhost:8080/"
        },
        "id": "txwNU2RX2Mls",
        "outputId": "91ce771b-c82b-4824-8ca0-aec0f55ac36f"
      },
      "execution_count": 95,
      "outputs": [
        {
          "output_type": "execute_result",
          "data": {
            "text/plain": [
              "([1, 4, 7, 8, 33, 34, 78, 88, 90], 135953242572096)"
            ]
          },
          "metadata": {},
          "execution_count": 95
        }
      ]
    },
    {
      "cell_type": "code",
      "source": [
        "a = [1,7,4,33,8,78,90,34,88]\n",
        "a.sort(reverse=True)"
      ],
      "metadata": {
        "id": "i9xxI9IN2Nso"
      },
      "execution_count": 96,
      "outputs": []
    },
    {
      "cell_type": "code",
      "source": [
        "a"
      ],
      "metadata": {
        "colab": {
          "base_uri": "https://localhost:8080/"
        },
        "id": "3LdkvX2e2dhM",
        "outputId": "1cb8391c-a962-43eb-e796-82b3306a58c2"
      },
      "execution_count": 97,
      "outputs": [
        {
          "output_type": "execute_result",
          "data": {
            "text/plain": [
              "[90, 88, 78, 34, 33, 8, 7, 4, 1]"
            ]
          },
          "metadata": {},
          "execution_count": 97
        }
      ]
    },
    {
      "cell_type": "code",
      "source": [
        "a = [1,7,4,33,8,78,90,34,88]\n",
        "sorted(a)"
      ],
      "metadata": {
        "colab": {
          "base_uri": "https://localhost:8080/"
        },
        "id": "PEr2xY_q2eLG",
        "outputId": "d0944a02-0fdf-43cd-f99f-52327a174828"
      },
      "execution_count": 100,
      "outputs": [
        {
          "output_type": "execute_result",
          "data": {
            "text/plain": [
              "[1, 4, 7, 8, 33, 34, 78, 88, 90]"
            ]
          },
          "metadata": {},
          "execution_count": 100
        }
      ]
    },
    {
      "cell_type": "code",
      "source": [
        "a"
      ],
      "metadata": {
        "colab": {
          "base_uri": "https://localhost:8080/"
        },
        "id": "yt710R0u2k6z",
        "outputId": "c8cbcfe6-e7c2-4f8c-adbe-4175716b54fe"
      },
      "execution_count": 99,
      "outputs": [
        {
          "output_type": "execute_result",
          "data": {
            "text/plain": [
              "[1, 7, 4, 33, 8, 78, 90, 34, 88]"
            ]
          },
          "metadata": {},
          "execution_count": 99
        }
      ]
    },
    {
      "cell_type": "code",
      "source": [
        "sorted(a,reverse=True)"
      ],
      "metadata": {
        "colab": {
          "base_uri": "https://localhost:8080/"
        },
        "id": "3BneCQ3s2l87",
        "outputId": "4eee23ce-09a2-4b71-cb92-fb999eb1e365"
      },
      "execution_count": 101,
      "outputs": [
        {
          "output_type": "execute_result",
          "data": {
            "text/plain": [
              "[90, 88, 78, 34, 33, 8, 7, 4, 1]"
            ]
          },
          "metadata": {},
          "execution_count": 101
        }
      ]
    },
    {
      "cell_type": "code",
      "source": [
        "a"
      ],
      "metadata": {
        "colab": {
          "base_uri": "https://localhost:8080/"
        },
        "id": "_2rJZLn52vf8",
        "outputId": "1fd8f660-6938-4d0c-a4d5-6acf2be31ef5"
      },
      "execution_count": 102,
      "outputs": [
        {
          "output_type": "execute_result",
          "data": {
            "text/plain": [
              "[1, 7, 4, 33, 8, 78, 90, 34, 88]"
            ]
          },
          "metadata": {},
          "execution_count": 102
        }
      ]
    },
    {
      "cell_type": "code",
      "source": [
        "name = \"tushar\"\n",
        "name.replace('t',\"T\")"
      ],
      "metadata": {
        "colab": {
          "base_uri": "https://localhost:8080/",
          "height": 36
        },
        "id": "B5Ul3mLu2zMl",
        "outputId": "e2784ab0-e670-426a-b45c-a206fcaa1535"
      },
      "execution_count": 103,
      "outputs": [
        {
          "output_type": "execute_result",
          "data": {
            "text/plain": [
              "'Tushar'"
            ],
            "application/vnd.google.colaboratory.intrinsic+json": {
              "type": "string"
            }
          },
          "metadata": {},
          "execution_count": 103
        }
      ]
    },
    {
      "cell_type": "code",
      "source": [
        "name"
      ],
      "metadata": {
        "colab": {
          "base_uri": "https://localhost:8080/",
          "height": 36
        },
        "id": "F7aNc2vm26iL",
        "outputId": "2641cf74-8561-41c9-cdb5-d0f7a99597b8"
      },
      "execution_count": 104,
      "outputs": [
        {
          "output_type": "execute_result",
          "data": {
            "text/plain": [
              "'tushar'"
            ],
            "application/vnd.google.colaboratory.intrinsic+json": {
              "type": "string"
            }
          },
          "metadata": {},
          "execution_count": 104
        }
      ]
    },
    {
      "cell_type": "code",
      "source": [
        "a.append('Tushar')"
      ],
      "metadata": {
        "id": "Pb0VVxAu3Bdb"
      },
      "execution_count": 105,
      "outputs": []
    },
    {
      "cell_type": "code",
      "source": [
        "a"
      ],
      "metadata": {
        "colab": {
          "base_uri": "https://localhost:8080/"
        },
        "id": "pLENnd1H3GA7",
        "outputId": "77a2556b-a4bb-42f3-ed57-24a7f9a09eed"
      },
      "execution_count": 106,
      "outputs": [
        {
          "output_type": "execute_result",
          "data": {
            "text/plain": [
              "[1, 7, 4, 33, 8, 78, 90, 34, 88, 'Tushar']"
            ]
          },
          "metadata": {},
          "execution_count": 106
        }
      ]
    },
    {
      "cell_type": "code",
      "source": [
        "a.clear()"
      ],
      "metadata": {
        "id": "IfHf8PGl3HIY"
      },
      "execution_count": 107,
      "outputs": []
    },
    {
      "cell_type": "code",
      "source": [
        "a"
      ],
      "metadata": {
        "colab": {
          "base_uri": "https://localhost:8080/"
        },
        "id": "JcUPS6XH3akt",
        "outputId": "e3e64f08-3d1f-4619-a891-2f90baeb6516"
      },
      "execution_count": 108,
      "outputs": [
        {
          "output_type": "execute_result",
          "data": {
            "text/plain": [
              "[]"
            ]
          },
          "metadata": {},
          "execution_count": 108
        }
      ]
    },
    {
      "cell_type": "code",
      "source": [
        "i,j,k = 1,1,2\n",
        "for i in range(0,i+1):\n",
        "  for j in range(0,j+1):\n",
        "    for k in range(0,k+1):\n",
        "      if (i + j + k) != 3:\n",
        "        print(f\"{i} {j} {k}\")"
      ],
      "metadata": {
        "colab": {
          "base_uri": "https://localhost:8080/"
        },
        "id": "6ACxG1MO3c-E",
        "outputId": "8ba42f42-c713-4370-f0c2-44960a6c6102"
      },
      "execution_count": 111,
      "outputs": [
        {
          "output_type": "stream",
          "name": "stdout",
          "text": [
            "0 0 0\n",
            "0 0 1\n",
            "0 0 2\n",
            "0 1 0\n",
            "0 1 1\n",
            "1 0 0\n",
            "1 0 1\n",
            "1 1 0\n",
            "1 1 2\n"
          ]
        }
      ]
    },
    {
      "cell_type": "code",
      "source": [
        "\n"
      ],
      "metadata": {
        "id": "9xkyiiy64OJ7"
      },
      "execution_count": 111,
      "outputs": []
    },
    {
      "cell_type": "code",
      "source": [],
      "metadata": {
        "id": "dZbBRxt-6cN9"
      },
      "execution_count": null,
      "outputs": []
    }
  ]
}